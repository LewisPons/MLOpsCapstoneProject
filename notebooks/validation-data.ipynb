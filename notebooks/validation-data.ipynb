{
 "cells": [
  {
   "cell_type": "code",
   "execution_count": 3,
   "metadata": {},
   "outputs": [],
   "source": [
    "import pandas as pd"
   ]
  },
  {
   "cell_type": "code",
   "execution_count": 4,
   "metadata": {},
   "outputs": [],
   "source": [
    "df = pd.read_parquet('../data/preprocessing_output/cleaned_mails_v0.parquet.gzip')"
   ]
  },
  {
   "cell_type": "code",
   "execution_count": 5,
   "metadata": {},
   "outputs": [],
   "source": [
    "spam_senders = [\"hotwebcash@lists.adversend.com\", \"media_grok@reply.thestandard.com\", \"team@gradfinder.com\", \"trhtml-owner@maui.tr.com\", \n",
    "                \"owner-eveningmba@haas.berkeley.edu\", \"database.au@terrmail3.terrapinn.com\",\"sexxxmail@list.emailbucks.com\", \"cnet-news@two.digital.cnet.com\",\n",
    "                \"w513i4dj5@webtraffictuv.yahoo.com\", \"technologydaily-alert@nationaljournal.com\", \"jjill@clickaction.net\", \"@alerts.equityalert.com\",\n",
    "                \"@terrapinn.com\" ]\n"
   ]
  },
  {
   "cell_type": "code",
   "execution_count": 6,
   "metadata": {},
   "outputs": [],
   "source": [
    "spam_domains = [\"@lists.adversend.com\", \"@reply.thestandard.com\", \"@gradfinder.com\", \"@maui.tr.com\", \n",
    "                \"@haas.berkeley.edu\", \"@terrmail3.terrapinn.com\",\"@list.emailbucks.com\", \"@two.digital.cnet.com\",\n",
    "                \"@webtraffictuv.yahoo.com\", \"@nationaljournal.com\", \"@clickaction.net\", \"@alerts.equityalert.com\",\n",
    "                \"@terrapinn.com\" ]\n"
   ]
  },
  {
   "cell_type": "code",
   "execution_count": 8,
   "metadata": {},
   "outputs": [],
   "source": [
    "spam_senders_df = df[df['From'].str.contains(\"|\".join(spam_senders))]"
   ]
  },
  {
   "cell_type": "code",
   "execution_count": 9,
   "metadata": {},
   "outputs": [
    {
     "data": {
      "text/plain": [
       "(298, 18)"
      ]
     },
     "execution_count": 9,
     "metadata": {},
     "output_type": "execute_result"
    }
   ],
   "source": [
    "spam_senders_df.shape"
   ]
  },
  {
   "cell_type": "code",
   "execution_count": 10,
   "metadata": {},
   "outputs": [
    {
     "data": {
      "text/plain": [
       "(513, 18)"
      ]
     },
     "execution_count": 10,
     "metadata": {},
     "output_type": "execute_result"
    }
   ],
   "source": [
    "spam_domains_df = df[df['From'].str.contains(\"|\".join(spam_domains))]\n",
    "spam_domains_df.shape"
   ]
  },
  {
   "cell_type": "code",
   "execution_count": 13,
   "metadata": {},
   "outputs": [],
   "source": [
    "spam_senders_df.to_csv('../data/validation_data/spam_senders.csv')\n",
    "spam_domains_df.to_csv('../data/validation_data/spam_domains.csv')"
   ]
  }
 ],
 "metadata": {
  "kernelspec": {
   "display_name": "Python 3.7.9 ('mlopsenv': venv)",
   "language": "python",
   "name": "python3"
  },
  "language_info": {
   "codemirror_mode": {
    "name": "ipython",
    "version": 3
   },
   "file_extension": ".py",
   "mimetype": "text/x-python",
   "name": "python",
   "nbconvert_exporter": "python",
   "pygments_lexer": "ipython3",
   "version": "3.7.9"
  },
  "orig_nbformat": 4,
  "vscode": {
   "interpreter": {
    "hash": "66dc4e573df9df2bd5e173273dffd9585ed6127f91ebc4c38e01d824d02ebeb7"
   }
  }
 },
 "nbformat": 4,
 "nbformat_minor": 2
}
