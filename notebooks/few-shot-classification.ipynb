{
 "cells": [
  {
   "cell_type": "code",
   "execution_count": 1,
   "metadata": {},
   "outputs": [
    {
     "name": "stderr",
     "output_type": "stream",
     "text": [
      "/Users/luis.morales/Desktop/MLOpsBootcamp/MLOpsCapstoneProject/mlopsenv/lib/python3.7/site-packages/tqdm/auto.py:22: TqdmWarning: IProgress not found. Please update jupyter and ipywidgets. See https://ipywidgets.readthedocs.io/en/stable/user_install.html\n",
      "  from .autonotebook import tqdm as notebook_tqdm\n"
     ]
    }
   ],
   "source": [
    "from typing import List, Union\n",
    "from tqdm import tqdm\n",
    "import string\n",
    "import datetime\n",
    "from dateutil import parser\n",
    "import multiprocessing as mp\n",
    "\n",
    "import pandas as pd\n",
    "import numpy as np\n",
    "import spacy\n",
    "import nltk\n",
    "from nltk.corpus import stopwords\n",
    "from sklearn.base import TransformerMixin, BaseEstimator\n",
    "from sklearn.model_selection import train_test_split\n"
   ]
  },
  {
   "cell_type": "markdown",
   "metadata": {},
   "source": [
    "### Data Cleaning Utilities"
   ]
  },
  {
   "cell_type": "code",
   "execution_count": 2,
   "metadata": {},
   "outputs": [],
   "source": [
    "def change_date_type(dates: Union[pd.DataFrame, pd.Series]) -> List:\n",
    "    \"\"\"\n",
    "    Formats string column into datetime object\n",
    "    \"\"\"\n",
    "    column = []\n",
    "    \n",
    "    for date in dates:\n",
    "        column.append(parser.parse(date).strftime(\"%d-%m-%Y %H:%M:%S\"))\n",
    "    \n",
    "    series = pd.Series(column)\n",
    "    return pd.to_datetime(series)\n",
    "\n",
    "\n",
    "def str_to_list(row):\n",
    "    \"\"\"convert a string List into a List\"\"\"\n",
    "    row = str(row).strip(\"[]\").replace(\"'\",\"\")\n",
    "    return row\n",
    "\n",
    "\n",
    "def parsed_email_processing(df: pd.DataFrame) -> pd.DataFrame:\n",
    "    \"\"\"\n",
    "    Basic email formatting and cleaning\n",
    "    \"\"\"\n",
    "    \n",
    "    df['Date'] = change_date_type(df['Date'])\n",
    "    \n",
    "    df['body'] = df['body'].str.replace('\\n','').str.replace('\\t','')\n",
    "    \n",
    "    df['To'] = df['To'].astype('str')\\\n",
    "        .str.replace('b','')\\\n",
    "        .apply(str_to_list)\n",
    "        \n",
    "    df['From'] = df['From'].astype('str')\\\n",
    "        .str.replace('b','')\\\n",
    "        .apply(str_to_list)\n",
    "    \n",
    "    return df"
   ]
  },
  {
   "cell_type": "markdown",
   "metadata": {},
   "source": [
    "### Text Normalization Utilities"
   ]
  },
  {
   "cell_type": "code",
   "execution_count": 3,
   "metadata": {},
   "outputs": [],
   "source": [
    "def spacy_normalization_process(text):\n",
    "    nlp = spacy.load('en_core_web_sm')\n",
    "    doc = nlp(text)\n",
    "    \n",
    "    lemma_list = []\n",
    "    for token in doc:\n",
    "        lemma_list.append(token.lemma_)\n",
    "    print(\"Tokenize+Lemmatize:\")\n",
    "    print(lemma_list)\n",
    "    \n",
    "    filtered_sentence =[] \n",
    "    for word in lemma_list:\n",
    "        lexeme = nlp.vocab[word]\n",
    "        if lexeme.is_stop == False:\n",
    "            filtered_sentence.append(word) \n",
    "    \n",
    "    #Remove punctuation\n",
    "    punctuations=\"?:!.,;\"\n",
    "    for word in filtered_sentence:\n",
    "        if word in punctuations:\n",
    "            filtered_sentence.remove(word)\n",
    "    \n",
    "    return filtered_sentence"
   ]
  },
  {
   "cell_type": "code",
   "execution_count": 4,
   "metadata": {},
   "outputs": [],
   "source": [
    "nlp = spacy.load(\"en_core_web_sm\")\n",
    "stops = stopwords.words(\"english\")\n",
    "\n",
    "def _normalize(comment, lowercase, remove_stopwords):\n",
    "    if lowercase:\n",
    "        comment = comment.lower()\n",
    "    comment = nlp(comment)\n",
    "    lemmatized = list()\n",
    "    for word in comment:\n",
    "        lemma = word.lemma_.strip()\n",
    "        if lemma:\n",
    "            if not remove_stopwords or (remove_stopwords and lemma not in stops):\n",
    "                lemmatized.append(lemma)\n",
    "    return \" \".join(lemmatized)\n",
    "\n",
    "\n",
    "# result = test['body'].apply(_normalize, lowercase=True, remove_stopwords=True).to_frame()"
   ]
  },
  {
   "cell_type": "code",
   "execution_count": 5,
   "metadata": {},
   "outputs": [],
   "source": [
    "nlp = spacy.load(\"en_core_web_sm\")\n",
    "\n",
    "class TextPreprocessor(BaseEstimator, TransformerMixin):\n",
    "    def __init__(self,\n",
    "                 nlp = nlp,\n",
    "                 n_jobs=1):\n",
    "        \"\"\"\n",
    "        Text preprocessing transformer includes steps:\n",
    "            1. Punctuation removal\n",
    "            2. Stop words removal\n",
    "            3. Lemmatization\n",
    "\n",
    "        nlp  - spacy model\n",
    "        n_jobs - parallel jobs to run\n",
    "        \"\"\"\n",
    "        self.nlp = nlp\n",
    "        self.n_jobs = n_jobs\n",
    "\n",
    "    def fit(self, X, y=None):\n",
    "        return self\n",
    "    \n",
    "\n",
    "    def transform(self, X, *_):\n",
    "        X_copy = X.copy()\n",
    "\n",
    "        partitions = 1\n",
    "        cores = mp.cpu_count()\n",
    "        if self.n_jobs <= -1:\n",
    "            partitions = cores\n",
    "        elif self.n_jobs <= 0:\n",
    "            return X_copy.apply(self._preprocess_text)\n",
    "        else:\n",
    "            partitions = min(self.n_jobs, cores)\n",
    "\n",
    "        data_split = np.array_split(X_copy, partitions)\n",
    "        pool = mp.Pool(cores)\n",
    "        data = pd.concat(pool.map(self._preprocess_part, data_split))\n",
    "        pool.close()\n",
    "        pool.join()\n",
    "\n",
    "        return data\n",
    "    \n",
    "    \n",
    "    def _remove_punct(self, doc):\n",
    "        return (t for t in doc if t.text not in string.punctuation)\n",
    "    \n",
    "\n",
    "    def _remove_stop_words(self, doc):\n",
    "        return (t for t in doc if not t.is_stop)\n",
    "    \n",
    "\n",
    "    def _lemmatize(self, doc):\n",
    "        return ' '.join(t.lemma_ for t in doc)\n",
    "    \n",
    "\n",
    "    def _preprocess_text(self, text):\n",
    "        doc = self.nlp(text)\n",
    "        removed_punct = self._remove_punct(doc)\n",
    "        removed_stop_words = self._remove_stop_words(removed_punct)\n",
    "        return self._lemmatize(removed_stop_words)\n",
    "    \n",
    "    \n",
    "    def _preprocess_part(self, part):\n",
    "        return part.apply(self._preprocess_text)"
   ]
  },
  {
   "cell_type": "markdown",
   "metadata": {},
   "source": [
    "### Text features"
   ]
  },
  {
   "cell_type": "code",
   "execution_count": 6,
   "metadata": {},
   "outputs": [],
   "source": [
    "not_spam_df = pd.read_parquet('../data/labeled_data/nonspam.parquet.gzip')\n",
    "spam_df = pd.read_parquet('../data/labeled_data/spam.parquet.gzip')"
   ]
  },
  {
   "cell_type": "code",
   "execution_count": 7,
   "metadata": {},
   "outputs": [],
   "source": [
    "complete_df = pd.concat([spam_df, not_spam_df]).reset_index(drop=True)"
   ]
  },
  {
   "cell_type": "code",
   "execution_count": 105,
   "metadata": {},
   "outputs": [],
   "source": [
    "# complete_df.to_parquet('../data/labeled_data/labeled_data_v0.parquet.gzip', compression='gzip', engine='fastparquet')\n",
    "complete_df.to_csv('../data/labeled_data/labeled_data_v0.csv', index=False)"
   ]
  },
  {
   "cell_type": "code",
   "execution_count": 8,
   "metadata": {},
   "outputs": [],
   "source": [
    "complete_df = parsed_email_processing(complete_df)"
   ]
  },
  {
   "cell_type": "code",
   "execution_count": 9,
   "metadata": {},
   "outputs": [],
   "source": [
    "nlp = spacy.load(\"en_core_web_sm\")\n",
    "Normalizer = TextPreprocessor(nlp, -1)\n",
    "complete_df['body_transformed'] = Normalizer.transform(complete_df['body'])"
   ]
  },
  {
   "cell_type": "code",
   "execution_count": 37,
   "metadata": {},
   "outputs": [
    {
     "data": {
      "text/plain": [
       "'OUTLOOK EMAIL NOTIFICATIONYour Date of Migration is: May 10thYOU WILL BE UNABLE TO SEND E-MAIL unless you take the following action:Please go through your Notes email and clean out as many old/un-needed emai=l=20items as possible BEFORE your date of migration.? After you are migrated to==20Outlook you will only be allocated 100MB of total Mailbox space.?? If more==20than this amount of data is migrated to Outlook YOU WILL NOT BE ABLE TO SEN=D=20E-MAIL until it is below the 100MB limit.? Cleaning up your Notes email now==20will prevent this from happening to YOU.Enron=01,s messaging platform is migrating from Lotus Notes to Microsoft Ou=tlook=202000 worldwide.  You will be accessing Outlook for all of your email=20functions.=20WHY IS ENRON MIGRATING TO OUTLOOK 2000?Many factors contributed to the decision to migrate from Lotus Notes to=20Microsoft Exchange/Outlook.  The most prominent factors were:? Significant advantages to moving to a product that is more integrated wit=h=20current Enron apps (Windows 2000, Office and Internet Explorer)? More efficient Shared PC and Roaming User features? Improved support and integration for Palm/CE devices? Instant Messaging capabilitiesWHAT IS BEING MIGRATED TO OUTLOOK 2000?? Email Messages.  From the date of your scheduled migration, the last (30)==20thirty days of your Email will be converted for use in Outlook.? All your folders in Notes you use to store email messages in.? To Do Items? Journal Items? Calendar Entries dating from (1) one year in the past to (10) ten years i=n=20the future will be converted.? Address Books, but NOT your Distribution Lists that you created.  You wil=l=20need to re-create these in Outlook.Thank you,Outlook 2000 Migration Team'"
      ]
     },
     "execution_count": 37,
     "metadata": {},
     "output_type": "execute_result"
    }
   ],
   "source": [
    "complete_df[complete_df['spam'] == 0]['body'].to_list()[1]"
   ]
  },
  {
   "cell_type": "code",
   "execution_count": 93,
   "metadata": {},
   "outputs": [],
   "source": [
    "def format_hugging_face_input_string(\n",
    "    not_spam_mail_list: List[str], \n",
    "    spam_mail_list: List[str], \n",
    "    end_sequence: str = '######$######',\n",
    "    test_case: str= None\n",
    "):\n",
    "    base_not_spam_str = \"\"\"\"\"\"\n",
    "    for mail in not_spam_mail_list:\n",
    "        base_not_spam_str += f\"\"\"\\nEmail: {mail}\\nSpam: NotSpam\\n{end_sequence}\\n\n",
    "        \"\"\"\n",
    "    \n",
    "    base_spam_str = \"\"\"\"\"\"\n",
    "    for mail in not_spam_mail_list:\n",
    "        base_spam_str += f\"\"\"\\nEmail: {mail}\\nSpam: Spam\\n{end_sequence}\\n\n",
    "        \"\"\"\n",
    "    formated_string = f\"\"\"{base_not_spam_str}\\n{base_spam_str}\"\"\"\n",
    "    \n",
    "    if test_case:\n",
    "        formated_string += f\"\"\"\\nEmail: {test_case}\\nSpam:\"\"\"\n",
    "    \n",
    "    return formated_string\n",
    "\n",
    "\n",
    "_not_spam_test = complete_df[complete_df['spam'] == 0]['body'].to_list()\n",
    "_spam_test = complete_df[complete_df['spam'] == 1]['body'].to_list()"
   ]
  },
  {
   "cell_type": "code",
   "execution_count": null,
   "metadata": {},
   "outputs": [],
   "source": []
  },
  {
   "cell_type": "code",
   "execution_count": 98,
   "metadata": {},
   "outputs": [
    {
     "data": {
      "text/plain": [
       "\"Here is the language I mentioned in my voice mail.  Cynthia Sandherr's office should be getting in touch this afternoon with the addresses, forms of address, etc.  The letters need to be hand delivered in DC on Monday so they need to be fed exed to our DC office tonight.  Please call if you have any questions.Thanks!Mark\""
      ]
     },
     "execution_count": 98,
     "metadata": {},
     "output_type": "execute_result"
    }
   ],
   "source": [
    "_not_spam_test[-1]"
   ]
  },
  {
   "cell_type": "code",
   "execution_count": 100,
   "metadata": {},
   "outputs": [
    {
     "name": "stdout",
     "output_type": "stream",
     "text": [
      "\n",
      "Email: The file was too big to email.  It contains all financial deals (P,B,I,GD) in the active NG-PRICE book.  It does not contain any option deals.  I will set up the new books so that we can move the net positive deals by counterparty.  Let me know if you have any questions.  It is saved in O:/_Dropbox.DG\n",
      "Spam: NotSpam\n",
      "######$######\n",
      "\n",
      "        \n",
      "Email: OUTLOOK EMAIL NOTIFICATIONYour Date of Migration is: May 10thYOU WILL BE UNABLE TO SEND E-MAIL unless you take the following action:Please go through your Notes email and clean out as many old/un-needed emai=l=20items as possible BEFORE your date of migration.? After you are migrated to==20Outlook you will only be allocated 100MB of total Mailbox space.?? If more==20than this amount of data is migrated to Outlook YOU WILL NOT BE ABLE TO SEN=D=20E-MAIL until it is below the 100MB limit.? Cleaning up your Notes email now==20will prevent this from happening to YOU.Enron=01,s messaging platform is migrating from Lotus Notes to Microsoft Ou=tlook=202000 worldwide.  You will be accessing Outlook for all of your email=20functions.=20WHY IS ENRON MIGRATING TO OUTLOOK 2000?Many factors contributed to the decision to migrate from Lotus Notes to=20Microsoft Exchange/Outlook.  The most prominent factors were:? Significant advantages to moving to a product that is more integrated wit=h=20current Enron apps (Windows 2000, Office and Internet Explorer)? More efficient Shared PC and Roaming User features? Improved support and integration for Palm/CE devices? Instant Messaging capabilitiesWHAT IS BEING MIGRATED TO OUTLOOK 2000?? Email Messages.  From the date of your scheduled migration, the last (30)==20thirty days of your Email will be converted for use in Outlook.? All your folders in Notes you use to store email messages in.? To Do Items? Journal Items? Calendar Entries dating from (1) one year in the past to (10) ten years i=n=20the future will be converted.? Address Books, but NOT your Distribution Lists that you created.  You wil=l=20need to re-create these in Outlook.Thank you,Outlook 2000 Migration Team\n",
      "Spam: NotSpam\n",
      "######$######\n",
      "\n",
      "        \n",
      "Email: We have received an executed Master Agreement:Type of Contract:  ISDA Master Agreement (Multicurrency-Cross Border)Effective Date:   February 1, 2000Enron Entity:   Enron North America Corp.Counterparty:   Mieco Inc.Transactions Covered: Approved for all products with the exception for: Foreign Exchange                    Confirming Entity:  Enron North America Corp.Choice of Law:   TexasSamantha M. BoydSr. Legal SpecialistEnron North America Corp.1400 Smith, EB3802AHouston, TX  77002Phone:  (713) 853-9188Fax:  (713) 646-3490email:  samantha.boyd@enron.com\n",
      "Spam: NotSpam\n",
      "######$######\n",
      "\n",
      "        \n",
      "Email: I know that WPTF is supporting Hebert's approach and would suggest starting with $250 or higher with big increments every six months.  WPTF is also asking for clarification on what the cap applies to.  I don't recall what the comments said on refund and I haven't taken a look at the WPTF final yet.  I'll let you know.  I'll check on the others today.James D Steffes11/22/2000 07:30 AM To: Alan Comnes/PDX/ECT@ECT, bernadette Hawkins/Corp/Enron@Enron, gfergus@brobeck.com, Christopher F Calger/PDX/ECT@ECT, David Parquet/SF/ECT@ECT, Debra Davidson/PDX/ECT@ECT, Dennis Benevides/HOU/EES@EES, Ginger Dernehl/NA/Enron@Enron, Jeff Dasovich/NA/Enron@Enron, Jeff Richter/HOU/ECT@ECT, Joe Hartsoe/Corp/Enron@Enron, Joseph Alamo/NA/Enron@Enron, Jubran Whalan/HOU/EES@EES, kcurry@bracepatt.com, lanai.wolfe@enron.com, Marcia A Linton/NA/Enron@Enron, Mary Hain/HOU/ECT@ECT, Maureen McVicker/NA/Enron@Enron, Mona L Petrochko/NA/Enron@Enron, Neil Bresnan/HOU/EES@EES, Paul Kaufman/PDX/ECT@ECT, rcarroll@bracepatt.com, Richard Shapiro/NA/Enron@Enron, Robert Badeer/HOU/ECT@ECT, Sarah Novosel/Corp/Enron@Enron, Steven J Kean/NA/Enron@Enron, Susan J Mara/NA/Enron@Enron, Tim Belden/HOU/ECT@ECT, Richard Shapiro/NA/Enron@Enron cc:  Subject: Enron's Response Today - Key Point to Focus OnAs I've been thinking about our response today, I would like Enron to focus on making sure that the California (WSCC) markets are as good a possible for business over the next 15 to 24 months.  Following that idea, I think that the key points are (1) clarifying/raising the soft cap and (2) reducing the burden/risk of the prospective refund period.I know that we had discussed leading off with the debate over market power / retroactive refunds, but I think that (a) FERC is not inclined to do much more on this issue, (b) FERC wants to fix the market as much as it can given the current political realities, and (c) if retroactive refunds become an issue, we still have our full compliment of resources to later fight this fight.I would recommend that the pleading and Alan's testimony be modified to bring these issues to the top of the ticket.   We should still include all of our other arguments.Finally, I want to make sure that Enron is taking the right position by quietly supporting a $250/Mwh soft cap with safe harbor fixes?  Sue Mara, can you please try and find out what EPSA, IEPCA, and WPTF are going to file?  I want to make sure that we are in the ball park on this issue but not getting too soft.Jim\n",
      "Spam: NotSpam\n",
      "######$######\n",
      "\n",
      "        \n",
      "Email: Do we need to meet this morning regarding our letter of intent as well as the MSA?\n",
      "Spam: NotSpam\n",
      "######$######\n",
      "\n",
      "        \n",
      "Email: Yes, they came to the last IEP meeting with a proposal for an ad campaign.  They would like IEP to help fund.  The people who came were those working on the campaign -- not the organizations sponsoring it.  I can get the names of the PR/ad people if you like.Sue MaraEnron Corp.Tel: (415) 782-7802Fax:(415) 782-7854Jeff DasovichSent by: Jeff Dasovich06/18/2001 01:43 PM To: Karen Denne/Corp/Enron@ENRON cc: Susan J Mara/NA/Enron@ENRON Subject: Re: Coalition for Energy ActionI can poke around---most of the associations in that group are in the negotiations I'm stuck in.  I'll let you know what I hear.Best,JeffKaren Denne06/15/2001 09:49 AM  To: Jeff Dasovich/NA/Enron@Enron, Susan J Mara/NA/Enron@ENRON cc:  Subject: Coalition for Energy ActionDo we have any contact w/ the Coalition for Energy Action -- the new business group led by the California Chamber?  We need to be part of that group to at least know what they're doing and what messages they're spinning.  Let me know, and we can add them into our target CEO database. thx.kd\n",
      "Spam: NotSpam\n",
      "######$######\n",
      "\n",
      "        \n",
      "Email: Thanks, Jeff.  I will get you more info for you and your team in early November.  --Sally  -----Original Message-----From: Gossett, Jeffrey C.  Sent:Friday, October  19, 2001 1:04 PMTo:Beck, SallySubject:FW: Names Needed for Golf TournamentGolf Tournament names for gas risk managementJeff Gossettx37306Hcp: 10Errol Mclaughlinx58274Hcp: 36O'neal Winfreex39686Hcp: 36Kam Keiserx35781Hcp: 36  -----Original Message-----From: Hall, Bob M  Sent:Thursday, October 18, 2001 1:46 PMTo:Superty, Robert; Gossett, Jeffrey C.Subject:FW: Names Needed for Golf TournamentCan you please provide info to Sally.thanksbob -----Original Message-----From: Beck, Sally  Sent:Thursday, October 18, 2001 1:45 PMTo:Sweeney, Kevin; Apollo, Beth; Hall, Bob M; Price, Brent A.Cc:Craig, Braedi; Carrizales, Blanca; Choate, Heather; Valdez, ChristinaSubject:Names Needed for Golf TournamentRE:  Golf Tournament at Ravenaux Country Club, Monday, November 19th         11:00 am Registration and Range Balls; 12:00 Noon Shotgun StartPlease send me the list players for each foursome, along with their handicaps and phone numbers by Friday this week?   Thanks.  Will provide more information for all players prior to tournament. FoursomesBeth Apollo (2):  EES and Global ServicesBrent Price (1)Kevin Sweeney (1)Bob Hall (2):  Risk and Logistics Chantelle:  Brent has given me names of players for his foursome - Brent, Scott Earnest; John Swinney and Frank Prejean.  Can you get handicaps and phone numbers (Enron) for me?  Thanks.  \n",
      "Spam: NotSpam\n",
      "######$######\n",
      "\n",
      "        \n",
      "Email: Start Date: 10/17/01; HourAhead hour: 3;  No ancillary schedules awarded.  Variances detected.Variances detected in Energy Import/Export schedule.     LOG MESSAGES:PARSING FILE -->> O:\\Portland\\WestDesk\\California Scheduling\\ISO Final Schedules\\2001101703.txtError retrieving HourAhead price data - process continuing...---- Energy Import/Export Schedule ----$$$ Variance found in table tblINTCHG_IMPEXP.     Details: (Hour: 3 / Preferred:   0.00 / Final:   0.01)  TRANS_TYPE: FINAL  SC_ID: ECTRT  MKT_TYPE: 2  TRANS_DATE: 10/17/01  TIE_POINT: MALIN_5_RNDMTN  INTERCHG_ID: EPMI_CISO_AAA  ENGY_TYPE: WHEEL\n",
      "Spam: NotSpam\n",
      "######$######\n",
      "\n",
      "        \n",
      "Email: FYI -  -----Original Message-----From: djcustomclips@djinteractive.com@ENRON [mailto:IMCEANOTES-djcustomclips+40djinteractive+2Ecom+40ENRON@ENRON.com] Sent:Wednesday, June 20, 2001 7:05 AMTo:168842@mailman.enron.comSubject:Rahil Jafry: El Paso Unveils Wholesale Trading Desk.El Paso Unveils Wholesale Trading Desk.06/19/2001Business News AmericasCopyright 1996 - 2001 Business News Americas (BNamericas.com)El Paso Energy InternationalTransportadora Brasileira GasodutoBolivia-Brasil S.A.Gas Transboliviano S.A.United States power company El Paso yesterday unveiled a wholesaletrading and risk management platform at its US$10mn headquarters in Riode Janeiro, which will cover all of El Paso's Latin American operations,the company said in a statement.\"With the implementation of merchant power stations [in Brazil] thecompany will begin to commercialize electric energy on the wholesalemarket for distributors and large clients,\" El Paso said.The trading desk has 54 stations, and is similar to that of astockbroker trading house, the company explained. It is the same systemused by El Paso's Merchant Energy Group at the company's Houstonheadquarters, with 300 traders, and in London, where it has 150 traders.Contracts are closed through the wholesale energy market (MAE) orthrough bilateral contracts, El Paso explained.The trading desk is part of El Paso's strategic shift to concentrate ondeveloping regional bases with integrated businesses, from exploring,extracting and transporting natural gas to thermoelectric powergeneration and electricity trading. Some US$5bn will be invested inBrazil through 2005.As well as a number of exploration and production activities in Brazil,El Paso has generating projects under way or under evaluation which willtotal 2,625MW installed capacity:The projects are 100% ownership of the 400MW Manaus natural gas plant inAmazonas state that began operations in 1997; 100% of the 870MW MacaeMerchant natural gas thermoelectric project in Rio de Janeiro, scheduledto begin 200MW operations in September 2001 and full production in 2002;50% of the 350MW Porto Velho thermoelectric project in Roraima,scheduled for operations in September 2001. The plant will initially usediesel fuel, until a natural gas pipeline can be built to supply theplant, which will the be converted to use three natural gas turbines andone steam turbine. Brazil's CS Participacoes the remaining 50%.An additional projects is the 480MW Araucaria thermoelectric project inParana state, scheduled to begin operations in mid-2002, with twonatural gas turbines and one steam turbine. El Paso owns a 60% stakewhile Brazil's Copel and Petrobras subsidiary Gaspetro each own 20%.Projects under evaluation are the 300MW Termocatarinense Norte -Guaramirim thermoelectric project in Santa Catarina, in which El Pasoowns 70%; and the 225MW Paracambi thermoelectric project in Rio deJaneiro that would produce 125MW from early 2002 followed by a further100MW from 2003. El Paso would own 100% of this project.El Paso also owns a 9.67% stake in TBG, the Brazilian management companyof the Bolivia-Brazil natural gas pipeline, and a 2% stake in Bolivianmanagement company GTB.http://www.bnamericas.comCopyright 1996 - 2001 Business News Americas (BNamericas.com).Folder Name: Rahil JafryRelevance Score on Scale of 100: 82______________________________________________________________________To review or revise your folder, visit http://www.djinteractive.com or contact Dow Jones Customer Service by e-mail at custom.news@bis.dowjones.com or by phone at 800-369-7466. (Outside the U.S. and Canada, call 609-452-1511 or contact your local sales representative.)______________________________________________________________________Copyright (c) 2001 Dow Jones & Company, Inc. All Rights Reserved\n",
      "Spam: NotSpam\n",
      "######$######\n",
      "\n",
      "        \n",
      "Email: Are these codes still ok?  If so, please respond to Liz Legros.  I will respond re end date. -----Original Message-----From: Legros, Liz  Sent:Wednesday, January 09, 2002 11:58 AMTo:Lokey, TebSubject:Jeanette DollHi Teb,I am trying to verify if Jeanette Doll is still on assignment. Listed below are the Co #s and CC #s that Jeanette has been charging her time to. Could you validate if these cost center numbers are still active or inactive?. Is the Company Name and Department the same?   Also, please let me know if there are any cost center numbers that need to be added or deleted.TranswesternGPG-TW Rates0060111004Lastly, is there a tentative end date for this assignment?Thanks!Liz LeGrosContingent Resource ConsultantCSS @ Enron713/345-3158Fax:  713/646-3644liz.legros@enron.com\n",
      "Spam: NotSpam\n",
      "######$######\n",
      "\n",
      "        \n",
      "\n",
      "Email: The file was too big to email.  It contains all financial deals (P,B,I,GD) in the active NG-PRICE book.  It does not contain any option deals.  I will set up the new books so that we can move the net positive deals by counterparty.  Let me know if you have any questions.  It is saved in O:/_Dropbox.DG\n",
      "Spam: Spam\n",
      "######$######\n",
      "\n",
      "        \n",
      "Email: OUTLOOK EMAIL NOTIFICATIONYour Date of Migration is: May 10thYOU WILL BE UNABLE TO SEND E-MAIL unless you take the following action:Please go through your Notes email and clean out as many old/un-needed emai=l=20items as possible BEFORE your date of migration.? After you are migrated to==20Outlook you will only be allocated 100MB of total Mailbox space.?? If more==20than this amount of data is migrated to Outlook YOU WILL NOT BE ABLE TO SEN=D=20E-MAIL until it is below the 100MB limit.? Cleaning up your Notes email now==20will prevent this from happening to YOU.Enron=01,s messaging platform is migrating from Lotus Notes to Microsoft Ou=tlook=202000 worldwide.  You will be accessing Outlook for all of your email=20functions.=20WHY IS ENRON MIGRATING TO OUTLOOK 2000?Many factors contributed to the decision to migrate from Lotus Notes to=20Microsoft Exchange/Outlook.  The most prominent factors were:? Significant advantages to moving to a product that is more integrated wit=h=20current Enron apps (Windows 2000, Office and Internet Explorer)? More efficient Shared PC and Roaming User features? Improved support and integration for Palm/CE devices? Instant Messaging capabilitiesWHAT IS BEING MIGRATED TO OUTLOOK 2000?? Email Messages.  From the date of your scheduled migration, the last (30)==20thirty days of your Email will be converted for use in Outlook.? All your folders in Notes you use to store email messages in.? To Do Items? Journal Items? Calendar Entries dating from (1) one year in the past to (10) ten years i=n=20the future will be converted.? Address Books, but NOT your Distribution Lists that you created.  You wil=l=20need to re-create these in Outlook.Thank you,Outlook 2000 Migration Team\n",
      "Spam: Spam\n",
      "######$######\n",
      "\n",
      "        \n",
      "Email: We have received an executed Master Agreement:Type of Contract:  ISDA Master Agreement (Multicurrency-Cross Border)Effective Date:   February 1, 2000Enron Entity:   Enron North America Corp.Counterparty:   Mieco Inc.Transactions Covered: Approved for all products with the exception for: Foreign Exchange                    Confirming Entity:  Enron North America Corp.Choice of Law:   TexasSamantha M. BoydSr. Legal SpecialistEnron North America Corp.1400 Smith, EB3802AHouston, TX  77002Phone:  (713) 853-9188Fax:  (713) 646-3490email:  samantha.boyd@enron.com\n",
      "Spam: Spam\n",
      "######$######\n",
      "\n",
      "        \n",
      "Email: I know that WPTF is supporting Hebert's approach and would suggest starting with $250 or higher with big increments every six months.  WPTF is also asking for clarification on what the cap applies to.  I don't recall what the comments said on refund and I haven't taken a look at the WPTF final yet.  I'll let you know.  I'll check on the others today.James D Steffes11/22/2000 07:30 AM To: Alan Comnes/PDX/ECT@ECT, bernadette Hawkins/Corp/Enron@Enron, gfergus@brobeck.com, Christopher F Calger/PDX/ECT@ECT, David Parquet/SF/ECT@ECT, Debra Davidson/PDX/ECT@ECT, Dennis Benevides/HOU/EES@EES, Ginger Dernehl/NA/Enron@Enron, Jeff Dasovich/NA/Enron@Enron, Jeff Richter/HOU/ECT@ECT, Joe Hartsoe/Corp/Enron@Enron, Joseph Alamo/NA/Enron@Enron, Jubran Whalan/HOU/EES@EES, kcurry@bracepatt.com, lanai.wolfe@enron.com, Marcia A Linton/NA/Enron@Enron, Mary Hain/HOU/ECT@ECT, Maureen McVicker/NA/Enron@Enron, Mona L Petrochko/NA/Enron@Enron, Neil Bresnan/HOU/EES@EES, Paul Kaufman/PDX/ECT@ECT, rcarroll@bracepatt.com, Richard Shapiro/NA/Enron@Enron, Robert Badeer/HOU/ECT@ECT, Sarah Novosel/Corp/Enron@Enron, Steven J Kean/NA/Enron@Enron, Susan J Mara/NA/Enron@Enron, Tim Belden/HOU/ECT@ECT, Richard Shapiro/NA/Enron@Enron cc:  Subject: Enron's Response Today - Key Point to Focus OnAs I've been thinking about our response today, I would like Enron to focus on making sure that the California (WSCC) markets are as good a possible for business over the next 15 to 24 months.  Following that idea, I think that the key points are (1) clarifying/raising the soft cap and (2) reducing the burden/risk of the prospective refund period.I know that we had discussed leading off with the debate over market power / retroactive refunds, but I think that (a) FERC is not inclined to do much more on this issue, (b) FERC wants to fix the market as much as it can given the current political realities, and (c) if retroactive refunds become an issue, we still have our full compliment of resources to later fight this fight.I would recommend that the pleading and Alan's testimony be modified to bring these issues to the top of the ticket.   We should still include all of our other arguments.Finally, I want to make sure that Enron is taking the right position by quietly supporting a $250/Mwh soft cap with safe harbor fixes?  Sue Mara, can you please try and find out what EPSA, IEPCA, and WPTF are going to file?  I want to make sure that we are in the ball park on this issue but not getting too soft.Jim\n",
      "Spam: Spam\n",
      "######$######\n",
      "\n",
      "        \n",
      "Email: Do we need to meet this morning regarding our letter of intent as well as the MSA?\n",
      "Spam: Spam\n",
      "######$######\n",
      "\n",
      "        \n",
      "Email: Yes, they came to the last IEP meeting with a proposal for an ad campaign.  They would like IEP to help fund.  The people who came were those working on the campaign -- not the organizations sponsoring it.  I can get the names of the PR/ad people if you like.Sue MaraEnron Corp.Tel: (415) 782-7802Fax:(415) 782-7854Jeff DasovichSent by: Jeff Dasovich06/18/2001 01:43 PM To: Karen Denne/Corp/Enron@ENRON cc: Susan J Mara/NA/Enron@ENRON Subject: Re: Coalition for Energy ActionI can poke around---most of the associations in that group are in the negotiations I'm stuck in.  I'll let you know what I hear.Best,JeffKaren Denne06/15/2001 09:49 AM  To: Jeff Dasovich/NA/Enron@Enron, Susan J Mara/NA/Enron@ENRON cc:  Subject: Coalition for Energy ActionDo we have any contact w/ the Coalition for Energy Action -- the new business group led by the California Chamber?  We need to be part of that group to at least know what they're doing and what messages they're spinning.  Let me know, and we can add them into our target CEO database. thx.kd\n",
      "Spam: Spam\n",
      "######$######\n",
      "\n",
      "        \n",
      "Email: Thanks, Jeff.  I will get you more info for you and your team in early November.  --Sally  -----Original Message-----From: Gossett, Jeffrey C.  Sent:Friday, October  19, 2001 1:04 PMTo:Beck, SallySubject:FW: Names Needed for Golf TournamentGolf Tournament names for gas risk managementJeff Gossettx37306Hcp: 10Errol Mclaughlinx58274Hcp: 36O'neal Winfreex39686Hcp: 36Kam Keiserx35781Hcp: 36  -----Original Message-----From: Hall, Bob M  Sent:Thursday, October 18, 2001 1:46 PMTo:Superty, Robert; Gossett, Jeffrey C.Subject:FW: Names Needed for Golf TournamentCan you please provide info to Sally.thanksbob -----Original Message-----From: Beck, Sally  Sent:Thursday, October 18, 2001 1:45 PMTo:Sweeney, Kevin; Apollo, Beth; Hall, Bob M; Price, Brent A.Cc:Craig, Braedi; Carrizales, Blanca; Choate, Heather; Valdez, ChristinaSubject:Names Needed for Golf TournamentRE:  Golf Tournament at Ravenaux Country Club, Monday, November 19th         11:00 am Registration and Range Balls; 12:00 Noon Shotgun StartPlease send me the list players for each foursome, along with their handicaps and phone numbers by Friday this week?   Thanks.  Will provide more information for all players prior to tournament. FoursomesBeth Apollo (2):  EES and Global ServicesBrent Price (1)Kevin Sweeney (1)Bob Hall (2):  Risk and Logistics Chantelle:  Brent has given me names of players for his foursome - Brent, Scott Earnest; John Swinney and Frank Prejean.  Can you get handicaps and phone numbers (Enron) for me?  Thanks.  \n",
      "Spam: Spam\n",
      "######$######\n",
      "\n",
      "        \n",
      "Email: Start Date: 10/17/01; HourAhead hour: 3;  No ancillary schedules awarded.  Variances detected.Variances detected in Energy Import/Export schedule.     LOG MESSAGES:PARSING FILE -->> O:\\Portland\\WestDesk\\California Scheduling\\ISO Final Schedules\\2001101703.txtError retrieving HourAhead price data - process continuing...---- Energy Import/Export Schedule ----$$$ Variance found in table tblINTCHG_IMPEXP.     Details: (Hour: 3 / Preferred:   0.00 / Final:   0.01)  TRANS_TYPE: FINAL  SC_ID: ECTRT  MKT_TYPE: 2  TRANS_DATE: 10/17/01  TIE_POINT: MALIN_5_RNDMTN  INTERCHG_ID: EPMI_CISO_AAA  ENGY_TYPE: WHEEL\n",
      "Spam: Spam\n",
      "######$######\n",
      "\n",
      "        \n",
      "Email: FYI -  -----Original Message-----From: djcustomclips@djinteractive.com@ENRON [mailto:IMCEANOTES-djcustomclips+40djinteractive+2Ecom+40ENRON@ENRON.com] Sent:Wednesday, June 20, 2001 7:05 AMTo:168842@mailman.enron.comSubject:Rahil Jafry: El Paso Unveils Wholesale Trading Desk.El Paso Unveils Wholesale Trading Desk.06/19/2001Business News AmericasCopyright 1996 - 2001 Business News Americas (BNamericas.com)El Paso Energy InternationalTransportadora Brasileira GasodutoBolivia-Brasil S.A.Gas Transboliviano S.A.United States power company El Paso yesterday unveiled a wholesaletrading and risk management platform at its US$10mn headquarters in Riode Janeiro, which will cover all of El Paso's Latin American operations,the company said in a statement.\"With the implementation of merchant power stations [in Brazil] thecompany will begin to commercialize electric energy on the wholesalemarket for distributors and large clients,\" El Paso said.The trading desk has 54 stations, and is similar to that of astockbroker trading house, the company explained. It is the same systemused by El Paso's Merchant Energy Group at the company's Houstonheadquarters, with 300 traders, and in London, where it has 150 traders.Contracts are closed through the wholesale energy market (MAE) orthrough bilateral contracts, El Paso explained.The trading desk is part of El Paso's strategic shift to concentrate ondeveloping regional bases with integrated businesses, from exploring,extracting and transporting natural gas to thermoelectric powergeneration and electricity trading. Some US$5bn will be invested inBrazil through 2005.As well as a number of exploration and production activities in Brazil,El Paso has generating projects under way or under evaluation which willtotal 2,625MW installed capacity:The projects are 100% ownership of the 400MW Manaus natural gas plant inAmazonas state that began operations in 1997; 100% of the 870MW MacaeMerchant natural gas thermoelectric project in Rio de Janeiro, scheduledto begin 200MW operations in September 2001 and full production in 2002;50% of the 350MW Porto Velho thermoelectric project in Roraima,scheduled for operations in September 2001. The plant will initially usediesel fuel, until a natural gas pipeline can be built to supply theplant, which will the be converted to use three natural gas turbines andone steam turbine. Brazil's CS Participacoes the remaining 50%.An additional projects is the 480MW Araucaria thermoelectric project inParana state, scheduled to begin operations in mid-2002, with twonatural gas turbines and one steam turbine. El Paso owns a 60% stakewhile Brazil's Copel and Petrobras subsidiary Gaspetro each own 20%.Projects under evaluation are the 300MW Termocatarinense Norte -Guaramirim thermoelectric project in Santa Catarina, in which El Pasoowns 70%; and the 225MW Paracambi thermoelectric project in Rio deJaneiro that would produce 125MW from early 2002 followed by a further100MW from 2003. El Paso would own 100% of this project.El Paso also owns a 9.67% stake in TBG, the Brazilian management companyof the Bolivia-Brazil natural gas pipeline, and a 2% stake in Bolivianmanagement company GTB.http://www.bnamericas.comCopyright 1996 - 2001 Business News Americas (BNamericas.com).Folder Name: Rahil JafryRelevance Score on Scale of 100: 82______________________________________________________________________To review or revise your folder, visit http://www.djinteractive.com or contact Dow Jones Customer Service by e-mail at custom.news@bis.dowjones.com or by phone at 800-369-7466. (Outside the U.S. and Canada, call 609-452-1511 or contact your local sales representative.)______________________________________________________________________Copyright (c) 2001 Dow Jones & Company, Inc. All Rights Reserved\n",
      "Spam: Spam\n",
      "######$######\n",
      "\n",
      "        \n",
      "Email: Are these codes still ok?  If so, please respond to Liz Legros.  I will respond re end date. -----Original Message-----From: Legros, Liz  Sent:Wednesday, January 09, 2002 11:58 AMTo:Lokey, TebSubject:Jeanette DollHi Teb,I am trying to verify if Jeanette Doll is still on assignment. Listed below are the Co #s and CC #s that Jeanette has been charging her time to. Could you validate if these cost center numbers are still active or inactive?. Is the Company Name and Department the same?   Also, please let me know if there are any cost center numbers that need to be added or deleted.TranswesternGPG-TW Rates0060111004Lastly, is there a tentative end date for this assignment?Thanks!Liz LeGrosContingent Resource ConsultantCSS @ Enron713/345-3158Fax:  713/646-3644liz.legros@enron.com\n",
      "Spam: Spam\n",
      "######$######\n",
      "\n",
      "        \n",
      "Email: Here is the language I mentioned in my voice mail.  Cynthia Sandherr's office should be getting in touch this afternoon with the addresses, forms of address, etc.  The letters need to be hand delivered in DC on Monday so they need to be fed exed to our DC office tonight.  Please call if you have any questions.Thanks!Mark\n",
      "Spam:\n"
     ]
    }
   ],
   "source": [
    "print(format_hugging_face_input_string(_not_spam_test[:10], _spam_test[10], test_case=_not_spam_test[-1]))\n"
   ]
  },
  {
   "cell_type": "code",
   "execution_count": 83,
   "metadata": {},
   "outputs": [
    {
     "name": "stdout",
     "output_type": "stream",
     "text": [
      "\n",
      "Email: The file was too big to email.  It contains all financial deals (P,B,I,GD) in the active NG-PRICE book.  It does not contain any option deals.  I will set up the new books so that we can move the net positive deals by counterparty.  Let me know if you have any questions.  It is saved in O:/_Dropbox.DG\n",
      "Spam: Not Spam\n",
      "######$######\n",
      "\n",
      "        \n",
      "Email: OUTLOOK EMAIL NOTIFICATIONYour Date of Migration is: May 10thYOU WILL BE UNABLE TO SEND E-MAIL unless you take the following action:Please go through your Notes email and clean out as many old/un-needed emai=l=20items as possible BEFORE your date of migration.? After you are migrated to==20Outlook you will only be allocated 100MB of total Mailbox space.?? If more==20than this amount of data is migrated to Outlook YOU WILL NOT BE ABLE TO SEN=D=20E-MAIL until it is below the 100MB limit.? Cleaning up your Notes email now==20will prevent this from happening to YOU.Enron=01,s messaging platform is migrating from Lotus Notes to Microsoft Ou=tlook=202000 worldwide.  You will be accessing Outlook for all of your email=20functions.=20WHY IS ENRON MIGRATING TO OUTLOOK 2000?Many factors contributed to the decision to migrate from Lotus Notes to=20Microsoft Exchange/Outlook.  The most prominent factors were:? Significant advantages to moving to a product that is more integrated wit=h=20current Enron apps (Windows 2000, Office and Internet Explorer)? More efficient Shared PC and Roaming User features? Improved support and integration for Palm/CE devices? Instant Messaging capabilitiesWHAT IS BEING MIGRATED TO OUTLOOK 2000?? Email Messages.  From the date of your scheduled migration, the last (30)==20thirty days of your Email will be converted for use in Outlook.? All your folders in Notes you use to store email messages in.? To Do Items? Journal Items? Calendar Entries dating from (1) one year in the past to (10) ten years i=n=20the future will be converted.? Address Books, but NOT your Distribution Lists that you created.  You wil=l=20need to re-create these in Outlook.Thank you,Outlook 2000 Migration Team\n",
      "Spam: Not Spam\n",
      "######$######\n",
      "\n",
      "        \n",
      "Email: We have received an executed Master Agreement:Type of Contract:  ISDA Master Agreement (Multicurrency-Cross Border)Effective Date:   February 1, 2000Enron Entity:   Enron North America Corp.Counterparty:   Mieco Inc.Transactions Covered: Approved for all products with the exception for: Foreign Exchange                    Confirming Entity:  Enron North America Corp.Choice of Law:   TexasSamantha M. BoydSr. Legal SpecialistEnron North America Corp.1400 Smith, EB3802AHouston, TX  77002Phone:  (713) 853-9188Fax:  (713) 646-3490email:  samantha.boyd@enron.com\n",
      "Spam: Not Spam\n",
      "######$######\n",
      "\n",
      "        \n",
      "\n",
      "Email: $ * $ * $ * $ * HOTWEBCASH * $ * $ * $ * $Have you been turned down from receiving a loan by a bank because of poor credit, no credit or bankruptcy?Private Foundations are not interested in credit ratings, only demonstrated need.IF YOU CAN DEMONSTRATE A GENUINE NEED, YOU CAN APPLY FOR A GRANT!It is much easier to receive a grant by mail from a Private Foundation than a local bank, because they are much more lenient. Imagine getting a check, payable to you, in the mail! Money you never have to pay back!WE WILL SHOW YOU HOW!http://r1.adversend.com/?u=303&l=5&id=4199108<a href=\"http://r1.adversend.com/?u=303&l=5&id=4199108\"> AOL Users Click Here </a>Please pass this letter along to someone you feel could use the help!Thanks, $ * HOTWEBCASH * $ http://www.hotwebcash.com<<<>>> <<<>>> <<<>>> <<<>>> <<<>>> <<<>>> <<<>>> <<<>>> <<<>>>  * To be removed from this mailing list, click here:http://www.adversend.com/u/?l=hotwebcash&e=kevin.presto@ubswenergy.com<a href=\"http://www.adversend.com/u/?l=hotwebcash&e=kevin.presto@ubswenergy.com\">AOL users click here to unsubscribe</a>OR... * Reply to this email with the word \"remove\" as the subject.This message was sent to: kevin.presto@ubswenergy.comX-Adversend-Recipient: kevin.presto@ubswenergy.comX-Adversend-Userid: hotwebcash<<<>>> <<<>>> <<<>>> <<<>>> <<<>>> <<<>>> <<<>>> <<<>>> <<<>>> \n",
      "Spam: Spam\n",
      "######$######\n",
      "\n",
      "        \n",
      "Email: $ * $ * $ * $ * HOTWEBCASH * $ * $ * $ * $Your Opinion Counts...And We'll Reward You For It!Join the NPD Online Research Team.  Your opinions will be heard by decision makers worldwide.  And, you'll have a chance to WIN CASH - starting with the chance to win $1,000 for registering to join!   This is your chance to make a difference!  Just visit us at: http://r1.adversend.com/?u=317&l=5&id=4199108<a href=\"http://r1.adversend.com/?u=317&l=5&id=4199108\"> AOL Users Click Here </a>Thanks, $ * HOTWEBCASH * $ http://www.hotwebcash.com<<<>>> <<<>>> <<<>>> <<<>>> <<<>>> <<<>>> <<<>>> <<<>>> <<<>>>  * To be removed from this mailing list, click here:http://www.adversend.com/u/?l=hotwebcash&e=kevin.presto@ubswenergy.com<a href=\"http://www.adversend.com/u/?l=hotwebcash&e=kevin.presto@ubswenergy.com\">AOL users click here to unsubscribe</a>OR... * Reply to this email with the word \"remove\" as the subject.This message was sent to: kevin.presto@ubswenergy.comX-Adversend-Recipient: kevin.presto@ubswenergy.comX-Adversend-Userid: hotwebcash<<<>>> <<<>>> <<<>>> <<<>>> <<<>>> <<<>>> <<<>>> <<<>>> <<<>>> \n",
      "Spam: Spam\n",
      "######$######\n",
      "\n",
      "        \n",
      "Email: $ * $ * $ * $ * $ HOTWEBCASH $ * $ * $ * $ * $Our Programs Are Tailored To Your Specific Needs!Eat The Foods You Love!Free Consultation With No Obligation! Lose Pounds ~ Earn Dollars!GUARANTEED To Work Or Your Money Back!!CLICK HERE FOR MORE INFORMATION:http://r1.adversend.com/?u=322&l=5&id=4199108<a href=\"http://r1.adversend.com/?u=322&l=5&id=4199108\"> AOL Users Click Here </a>  Thanks, $ * HOTWEBCASH * $ http://www.hotwebcash.com<<<>>> <<<>>> <<<>>> <<<>>> <<<>>> <<<>>> <<<>>> <<<>>> <<<>>>  * To be removed from this mailing list, click here:http://www.adversend.com/u/?l=hotwebcash&e=kevin.presto@ubswenergy.com<a href=\"http://www.adversend.com/u/?l=hotwebcash&e=kevin.presto@ubswenergy.com\">AOL users click here to unsubscribe</a>OR... * Reply to this email with the word \"remove\" as the subject.This message was sent to: kevin.presto@ubswenergy.comX-Adversend-Recipient: kevin.presto@ubswenergy.comX-Adversend-Userid: hotwebcash<<<>>> <<<>>> <<<>>> <<<>>> <<<>>> <<<>>> <<<>>> <<<>>> <<<>>> \n",
      "Spam: Spam\n",
      "######$######\n",
      "\n",
      "        \n"
     ]
    }
   ],
   "source": [
    "_merged_str = f\"\"\"{_formated_not_spam}\\n{_formated_spam}\"\"\"\n",
    "print(_merged_str)"
   ]
  },
  {
   "cell_type": "code",
   "execution_count": 81,
   "metadata": {},
   "outputs": [
    {
     "name": "stdout",
     "output_type": "stream",
     "text": [
      "\n",
      "Email: $ * $ * $ * $ * HOTWEBCASH * $ * $ * $ * $Have you been turned down from receiving a loan by a bank because of poor credit, no credit or bankruptcy?Private Foundations are not interested in credit ratings, only demonstrated need.IF YOU CAN DEMONSTRATE A GENUINE NEED, YOU CAN APPLY FOR A GRANT!It is much easier to receive a grant by mail from a Private Foundation than a local bank, because they are much more lenient. Imagine getting a check, payable to you, in the mail! Money you never have to pay back!WE WILL SHOW YOU HOW!http://r1.adversend.com/?u=303&l=5&id=4199108<a href=\"http://r1.adversend.com/?u=303&l=5&id=4199108\"> AOL Users Click Here </a>Please pass this letter along to someone you feel could use the help!Thanks, $ * HOTWEBCASH * $ http://www.hotwebcash.com<<<>>> <<<>>> <<<>>> <<<>>> <<<>>> <<<>>> <<<>>> <<<>>> <<<>>>  * To be removed from this mailing list, click here:http://www.adversend.com/u/?l=hotwebcash&e=kevin.presto@ubswenergy.com<a href=\"http://www.adversend.com/u/?l=hotwebcash&e=kevin.presto@ubswenergy.com\">AOL users click here to unsubscribe</a>OR... * Reply to this email with the word \"remove\" as the subject.This message was sent to: kevin.presto@ubswenergy.comX-Adversend-Recipient: kevin.presto@ubswenergy.comX-Adversend-Userid: hotwebcash<<<>>> <<<>>> <<<>>> <<<>>> <<<>>> <<<>>> <<<>>> <<<>>> <<<>>> \n",
      "Spam: Spam\n",
      "######$######\n",
      "\n",
      "        \n",
      "Email: $ * $ * $ * $ * HOTWEBCASH * $ * $ * $ * $Your Opinion Counts...And We'll Reward You For It!Join the NPD Online Research Team.  Your opinions will be heard by decision makers worldwide.  And, you'll have a chance to WIN CASH - starting with the chance to win $1,000 for registering to join!   This is your chance to make a difference!  Just visit us at: http://r1.adversend.com/?u=317&l=5&id=4199108<a href=\"http://r1.adversend.com/?u=317&l=5&id=4199108\"> AOL Users Click Here </a>Thanks, $ * HOTWEBCASH * $ http://www.hotwebcash.com<<<>>> <<<>>> <<<>>> <<<>>> <<<>>> <<<>>> <<<>>> <<<>>> <<<>>>  * To be removed from this mailing list, click here:http://www.adversend.com/u/?l=hotwebcash&e=kevin.presto@ubswenergy.com<a href=\"http://www.adversend.com/u/?l=hotwebcash&e=kevin.presto@ubswenergy.com\">AOL users click here to unsubscribe</a>OR... * Reply to this email with the word \"remove\" as the subject.This message was sent to: kevin.presto@ubswenergy.comX-Adversend-Recipient: kevin.presto@ubswenergy.comX-Adversend-Userid: hotwebcash<<<>>> <<<>>> <<<>>> <<<>>> <<<>>> <<<>>> <<<>>> <<<>>> <<<>>> \n",
      "Spam: Spam\n",
      "######$######\n",
      "\n",
      "        \n",
      "Email: $ * $ * $ * $ * $ HOTWEBCASH $ * $ * $ * $ * $Our Programs Are Tailored To Your Specific Needs!Eat The Foods You Love!Free Consultation With No Obligation! Lose Pounds ~ Earn Dollars!GUARANTEED To Work Or Your Money Back!!CLICK HERE FOR MORE INFORMATION:http://r1.adversend.com/?u=322&l=5&id=4199108<a href=\"http://r1.adversend.com/?u=322&l=5&id=4199108\"> AOL Users Click Here </a>  Thanks, $ * HOTWEBCASH * $ http://www.hotwebcash.com<<<>>> <<<>>> <<<>>> <<<>>> <<<>>> <<<>>> <<<>>> <<<>>> <<<>>>  * To be removed from this mailing list, click here:http://www.adversend.com/u/?l=hotwebcash&e=kevin.presto@ubswenergy.com<a href=\"http://www.adversend.com/u/?l=hotwebcash&e=kevin.presto@ubswenergy.com\">AOL users click here to unsubscribe</a>OR... * Reply to this email with the word \"remove\" as the subject.This message was sent to: kevin.presto@ubswenergy.comX-Adversend-Recipient: kevin.presto@ubswenergy.comX-Adversend-Userid: hotwebcash<<<>>> <<<>>> <<<>>> <<<>>> <<<>>> <<<>>> <<<>>> <<<>>> <<<>>> \n",
      "Spam: Spam\n",
      "######$######\n",
      "\n",
      "        \n"
     ]
    }
   ],
   "source": [
    "def merge_formated_strings(not_spam_str, spam_str):\n",
    "    base = \"\"\"\"\"\"\n",
    "    return "
   ]
  },
  {
   "cell_type": "markdown",
   "metadata": {},
   "source": [
    "For more reference about the methodology we are going to use take a look into: \n",
    "- https://towardsdatascience.com/sentence-transformer-fine-tuning-setfit-outperforms-gpt-3-on-few-shot-text-classification-while-d9a3788f0b4e\n",
    "- https://github.com/pmbaumgartner/setfit"
   ]
  },
  {
   "cell_type": "markdown",
   "metadata": {},
   "source": [
    "- ### Setfit Classification"
   ]
  },
  {
   "cell_type": "markdown",
   "metadata": {},
   "source": [
    "- `1` stands for *spam* mails\n",
    "- `0` stands for *non spam* mails"
   ]
  },
  {
   "cell_type": "code",
   "execution_count": 11,
   "metadata": {},
   "outputs": [],
   "source": [
    "! pip install git+https://github.com/pmbaumgartner/setfit -q"
   ]
  },
  {
   "cell_type": "code",
   "execution_count": 12,
   "metadata": {},
   "outputs": [
    {
     "name": "stderr",
     "output_type": "stream",
     "text": [
      "There was a problem when trying to write in your cache folder (/Users/luis.morales/.cache/huggingface/hub). You should set the environment variable TRANSFORMERS_CACHE to a writable directory.\n"
     ]
    }
   ],
   "source": [
    "from setfit import SetFitClassifier"
   ]
  },
  {
   "cell_type": "code",
   "execution_count": 13,
   "metadata": {},
   "outputs": [
    {
     "data": {
      "text/plain": [
       "1    1092\n",
       "0     394\n",
       "Name: spam, dtype: int64"
      ]
     },
     "execution_count": 13,
     "metadata": {},
     "output_type": "execute_result"
    }
   ],
   "source": [
    "complete_df['spam'].value_counts()"
   ]
  },
  {
   "cell_type": "code",
   "execution_count": 14,
   "metadata": {},
   "outputs": [],
   "source": [
    "train_df, test_df = train_test_split(complete_df, test_size=0.2)"
   ]
  },
  {
   "cell_type": "code",
   "execution_count": 15,
   "metadata": {},
   "outputs": [
    {
     "ename": "NotADirectoryError",
     "evalue": "[Errno 20] Not a directory: '/Users/luis.morales/.cache/torch'",
     "output_type": "error",
     "traceback": [
      "\u001b[0;31m---------------------------------------------------------------------------\u001b[0m",
      "\u001b[0;31mNotADirectoryError\u001b[0m                        Traceback (most recent call last)",
      "\u001b[0;32m/var/folders/p8/hcc3hbg92yvd4fclbgllz3380000gn/T/ipykernel_3302/1951735441.py\u001b[0m in \u001b[0;36m<module>\u001b[0;34m\u001b[0m\n\u001b[0;32m----> 1\u001b[0;31m \u001b[0mclassifier\u001b[0m \u001b[0;34m=\u001b[0m \u001b[0mSetFitClassifier\u001b[0m\u001b[0;34m(\u001b[0m\u001b[0;34m'paraphrase-MiniLM-L3-v2'\u001b[0m\u001b[0;34m)\u001b[0m\u001b[0;34m\u001b[0m\u001b[0;34m\u001b[0m\u001b[0m\n\u001b[0m",
      "\u001b[0;32m~/Desktop/MLOpsBootcamp/MLOpsCapstoneProject/mlopsenv/lib/python3.7/site-packages/setfit/core.py\u001b[0m in \u001b[0;36m__init__\u001b[0;34m(self, model, classifier_head, loss, random_state)\u001b[0m\n\u001b[1;32m     81\u001b[0m         \u001b[0mtorch\u001b[0m\u001b[0;34m.\u001b[0m\u001b[0mmanual_seed\u001b[0m\u001b[0;34m(\u001b[0m\u001b[0mrandom_state\u001b[0m\u001b[0;34m)\u001b[0m\u001b[0;34m\u001b[0m\u001b[0;34m\u001b[0m\u001b[0m\n\u001b[1;32m     82\u001b[0m         \u001b[0mself\u001b[0m\u001b[0;34m.\u001b[0m\u001b[0mrandom_state\u001b[0m \u001b[0;34m=\u001b[0m \u001b[0mrandom_state\u001b[0m\u001b[0;34m\u001b[0m\u001b[0;34m\u001b[0m\u001b[0m\n\u001b[0;32m---> 83\u001b[0;31m         \u001b[0mself\u001b[0m\u001b[0;34m.\u001b[0m\u001b[0mmodel\u001b[0m \u001b[0;34m=\u001b[0m \u001b[0mSentenceTransformer\u001b[0m\u001b[0;34m(\u001b[0m\u001b[0mmodel\u001b[0m\u001b[0;34m)\u001b[0m\u001b[0;34m\u001b[0m\u001b[0;34m\u001b[0m\u001b[0m\n\u001b[0m\u001b[1;32m     84\u001b[0m         \u001b[0;32mif\u001b[0m \u001b[0mclassifier_head\u001b[0m \u001b[0;32mis\u001b[0m \u001b[0;32mNone\u001b[0m\u001b[0;34m:\u001b[0m\u001b[0;34m\u001b[0m\u001b[0;34m\u001b[0m\u001b[0m\n\u001b[1;32m     85\u001b[0m             \u001b[0mself\u001b[0m\u001b[0;34m.\u001b[0m\u001b[0mclassifier_head\u001b[0m \u001b[0;34m=\u001b[0m \u001b[0mLogisticRegression\u001b[0m\u001b[0;34m(\u001b[0m\u001b[0;34m)\u001b[0m\u001b[0;34m\u001b[0m\u001b[0;34m\u001b[0m\u001b[0m\n",
      "\u001b[0;32m~/Desktop/MLOpsBootcamp/MLOpsCapstoneProject/mlopsenv/lib/python3.7/site-packages/sentence_transformers/SentenceTransformer.py\u001b[0m in \u001b[0;36m__init__\u001b[0;34m(self, model_name_or_path, modules, device, cache_folder, use_auth_token)\u001b[0m\n\u001b[1;32m     90\u001b[0m                                         \u001b[0mlibrary_version\u001b[0m\u001b[0;34m=\u001b[0m\u001b[0m__version__\u001b[0m\u001b[0;34m,\u001b[0m\u001b[0;34m\u001b[0m\u001b[0;34m\u001b[0m\u001b[0m\n\u001b[1;32m     91\u001b[0m                                         \u001b[0mignore_files\u001b[0m\u001b[0;34m=\u001b[0m\u001b[0;34m[\u001b[0m\u001b[0;34m'flax_model.msgpack'\u001b[0m\u001b[0;34m,\u001b[0m \u001b[0;34m'rust_model.ot'\u001b[0m\u001b[0;34m,\u001b[0m \u001b[0;34m'tf_model.h5'\u001b[0m\u001b[0;34m]\u001b[0m\u001b[0;34m,\u001b[0m\u001b[0;34m\u001b[0m\u001b[0;34m\u001b[0m\u001b[0m\n\u001b[0;32m---> 92\u001b[0;31m                                         use_auth_token=use_auth_token)\n\u001b[0m\u001b[1;32m     93\u001b[0m \u001b[0;34m\u001b[0m\u001b[0m\n\u001b[1;32m     94\u001b[0m             \u001b[0;32mif\u001b[0m \u001b[0mos\u001b[0m\u001b[0;34m.\u001b[0m\u001b[0mpath\u001b[0m\u001b[0;34m.\u001b[0m\u001b[0mexists\u001b[0m\u001b[0;34m(\u001b[0m\u001b[0mos\u001b[0m\u001b[0;34m.\u001b[0m\u001b[0mpath\u001b[0m\u001b[0;34m.\u001b[0m\u001b[0mjoin\u001b[0m\u001b[0;34m(\u001b[0m\u001b[0mmodel_path\u001b[0m\u001b[0;34m,\u001b[0m \u001b[0;34m'modules.json'\u001b[0m\u001b[0;34m)\u001b[0m\u001b[0;34m)\u001b[0m\u001b[0;34m:\u001b[0m    \u001b[0;31m#Load as SentenceTransformer model\u001b[0m\u001b[0;34m\u001b[0m\u001b[0;34m\u001b[0m\u001b[0m\n",
      "\u001b[0;32m~/Desktop/MLOpsBootcamp/MLOpsCapstoneProject/mlopsenv/lib/python3.7/site-packages/sentence_transformers/util.py\u001b[0m in \u001b[0;36msnapshot_download\u001b[0;34m(repo_id, revision, cache_dir, library_name, library_version, user_agent, ignore_files, use_auth_token)\u001b[0m\n\u001b[1;32m    474\u001b[0m             \u001b[0mos\u001b[0m\u001b[0;34m.\u001b[0m\u001b[0mpath\u001b[0m\u001b[0;34m.\u001b[0m\u001b[0mjoin\u001b[0m\u001b[0;34m(\u001b[0m\u001b[0mstorage_folder\u001b[0m\u001b[0;34m,\u001b[0m \u001b[0mrelative_filepath\u001b[0m\u001b[0;34m)\u001b[0m\u001b[0;34m\u001b[0m\u001b[0;34m\u001b[0m\u001b[0m\n\u001b[1;32m    475\u001b[0m         )\n\u001b[0;32m--> 476\u001b[0;31m         \u001b[0mos\u001b[0m\u001b[0;34m.\u001b[0m\u001b[0mmakedirs\u001b[0m\u001b[0;34m(\u001b[0m\u001b[0mnested_dirname\u001b[0m\u001b[0;34m,\u001b[0m \u001b[0mexist_ok\u001b[0m\u001b[0;34m=\u001b[0m\u001b[0;32mTrue\u001b[0m\u001b[0;34m)\u001b[0m\u001b[0;34m\u001b[0m\u001b[0;34m\u001b[0m\u001b[0m\n\u001b[0m\u001b[1;32m    477\u001b[0m \u001b[0;34m\u001b[0m\u001b[0m\n\u001b[1;32m    478\u001b[0m         cached_download_args = {'url': url,\n",
      "\u001b[0;32m/Library/Frameworks/Python.framework/Versions/3.7/lib/python3.7/os.py\u001b[0m in \u001b[0;36mmakedirs\u001b[0;34m(name, mode, exist_ok)\u001b[0m\n\u001b[1;32m    211\u001b[0m     \u001b[0;32mif\u001b[0m \u001b[0mhead\u001b[0m \u001b[0;32mand\u001b[0m \u001b[0mtail\u001b[0m \u001b[0;32mand\u001b[0m \u001b[0;32mnot\u001b[0m \u001b[0mpath\u001b[0m\u001b[0;34m.\u001b[0m\u001b[0mexists\u001b[0m\u001b[0;34m(\u001b[0m\u001b[0mhead\u001b[0m\u001b[0;34m)\u001b[0m\u001b[0;34m:\u001b[0m\u001b[0;34m\u001b[0m\u001b[0;34m\u001b[0m\u001b[0m\n\u001b[1;32m    212\u001b[0m         \u001b[0;32mtry\u001b[0m\u001b[0;34m:\u001b[0m\u001b[0;34m\u001b[0m\u001b[0;34m\u001b[0m\u001b[0m\n\u001b[0;32m--> 213\u001b[0;31m             \u001b[0mmakedirs\u001b[0m\u001b[0;34m(\u001b[0m\u001b[0mhead\u001b[0m\u001b[0;34m,\u001b[0m \u001b[0mexist_ok\u001b[0m\u001b[0;34m=\u001b[0m\u001b[0mexist_ok\u001b[0m\u001b[0;34m)\u001b[0m\u001b[0;34m\u001b[0m\u001b[0;34m\u001b[0m\u001b[0m\n\u001b[0m\u001b[1;32m    214\u001b[0m         \u001b[0;32mexcept\u001b[0m \u001b[0mFileExistsError\u001b[0m\u001b[0;34m:\u001b[0m\u001b[0;34m\u001b[0m\u001b[0;34m\u001b[0m\u001b[0m\n\u001b[1;32m    215\u001b[0m             \u001b[0;31m# Defeats race condition when another thread created the path\u001b[0m\u001b[0;34m\u001b[0m\u001b[0;34m\u001b[0m\u001b[0;34m\u001b[0m\u001b[0m\n",
      "\u001b[0;32m/Library/Frameworks/Python.framework/Versions/3.7/lib/python3.7/os.py\u001b[0m in \u001b[0;36mmakedirs\u001b[0;34m(name, mode, exist_ok)\u001b[0m\n\u001b[1;32m    211\u001b[0m     \u001b[0;32mif\u001b[0m \u001b[0mhead\u001b[0m \u001b[0;32mand\u001b[0m \u001b[0mtail\u001b[0m \u001b[0;32mand\u001b[0m \u001b[0;32mnot\u001b[0m \u001b[0mpath\u001b[0m\u001b[0;34m.\u001b[0m\u001b[0mexists\u001b[0m\u001b[0;34m(\u001b[0m\u001b[0mhead\u001b[0m\u001b[0;34m)\u001b[0m\u001b[0;34m:\u001b[0m\u001b[0;34m\u001b[0m\u001b[0;34m\u001b[0m\u001b[0m\n\u001b[1;32m    212\u001b[0m         \u001b[0;32mtry\u001b[0m\u001b[0;34m:\u001b[0m\u001b[0;34m\u001b[0m\u001b[0;34m\u001b[0m\u001b[0m\n\u001b[0;32m--> 213\u001b[0;31m             \u001b[0mmakedirs\u001b[0m\u001b[0;34m(\u001b[0m\u001b[0mhead\u001b[0m\u001b[0;34m,\u001b[0m \u001b[0mexist_ok\u001b[0m\u001b[0;34m=\u001b[0m\u001b[0mexist_ok\u001b[0m\u001b[0;34m)\u001b[0m\u001b[0;34m\u001b[0m\u001b[0;34m\u001b[0m\u001b[0m\n\u001b[0m\u001b[1;32m    214\u001b[0m         \u001b[0;32mexcept\u001b[0m \u001b[0mFileExistsError\u001b[0m\u001b[0;34m:\u001b[0m\u001b[0;34m\u001b[0m\u001b[0;34m\u001b[0m\u001b[0m\n\u001b[1;32m    215\u001b[0m             \u001b[0;31m# Defeats race condition when another thread created the path\u001b[0m\u001b[0;34m\u001b[0m\u001b[0;34m\u001b[0m\u001b[0;34m\u001b[0m\u001b[0m\n",
      "\u001b[0;32m/Library/Frameworks/Python.framework/Versions/3.7/lib/python3.7/os.py\u001b[0m in \u001b[0;36mmakedirs\u001b[0;34m(name, mode, exist_ok)\u001b[0m\n\u001b[1;32m    221\u001b[0m             \u001b[0;32mreturn\u001b[0m\u001b[0;34m\u001b[0m\u001b[0;34m\u001b[0m\u001b[0m\n\u001b[1;32m    222\u001b[0m     \u001b[0;32mtry\u001b[0m\u001b[0;34m:\u001b[0m\u001b[0;34m\u001b[0m\u001b[0;34m\u001b[0m\u001b[0m\n\u001b[0;32m--> 223\u001b[0;31m         \u001b[0mmkdir\u001b[0m\u001b[0;34m(\u001b[0m\u001b[0mname\u001b[0m\u001b[0;34m,\u001b[0m \u001b[0mmode\u001b[0m\u001b[0;34m)\u001b[0m\u001b[0;34m\u001b[0m\u001b[0;34m\u001b[0m\u001b[0m\n\u001b[0m\u001b[1;32m    224\u001b[0m     \u001b[0;32mexcept\u001b[0m \u001b[0mOSError\u001b[0m\u001b[0;34m:\u001b[0m\u001b[0;34m\u001b[0m\u001b[0;34m\u001b[0m\u001b[0m\n\u001b[1;32m    225\u001b[0m         \u001b[0;31m# Cannot rely on checking for EEXIST, since the operating system\u001b[0m\u001b[0;34m\u001b[0m\u001b[0;34m\u001b[0m\u001b[0;34m\u001b[0m\u001b[0m\n",
      "\u001b[0;31mNotADirectoryError\u001b[0m: [Errno 20] Not a directory: '/Users/luis.morales/.cache/torch'"
     ]
    }
   ],
   "source": [
    "classifier = SetFitClassifier('paraphrase-MiniLM-L3-v2')"
   ]
  }
 ],
 "metadata": {
  "kernelspec": {
   "display_name": "Python 3.7.9 ('mlopsenv': venv)",
   "language": "python",
   "name": "python3"
  },
  "language_info": {
   "codemirror_mode": {
    "name": "ipython",
    "version": 3
   },
   "file_extension": ".py",
   "mimetype": "text/x-python",
   "name": "python",
   "nbconvert_exporter": "python",
   "pygments_lexer": "ipython3",
   "version": "3.7.9"
  },
  "orig_nbformat": 4,
  "vscode": {
   "interpreter": {
    "hash": "66dc4e573df9df2bd5e173273dffd9585ed6127f91ebc4c38e01d824d02ebeb7"
   }
  }
 },
 "nbformat": 4,
 "nbformat_minor": 2
}
