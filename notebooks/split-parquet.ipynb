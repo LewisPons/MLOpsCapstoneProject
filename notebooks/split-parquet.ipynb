{
 "cells": [
  {
   "cell_type": "code",
   "execution_count": 1,
   "metadata": {},
   "outputs": [],
   "source": [
    "import pandas as pd\n",
    "import numpy"
   ]
  },
  {
   "cell_type": "code",
   "execution_count": 2,
   "metadata": {},
   "outputs": [],
   "source": [
    "df = pd.read_parquet('../data/preprocessing_output/cleaned_mails_v0.parquet.gzip')"
   ]
  },
  {
   "cell_type": "code",
   "execution_count": 3,
   "metadata": {},
   "outputs": [
    {
     "data": {
      "text/plain": [
       "(517311, 18)"
      ]
     },
     "execution_count": 3,
     "metadata": {},
     "output_type": "execute_result"
    }
   ],
   "source": [
    "df.shape"
   ]
  },
  {
   "cell_type": "code",
   "execution_count": 5,
   "metadata": {},
   "outputs": [
    {
     "data": {
      "text/plain": [
       "129327"
      ]
     },
     "execution_count": 5,
     "metadata": {},
     "output_type": "execute_result"
    }
   ],
   "source": [
    "int(517311 / 4)"
   ]
  },
  {
   "cell_type": "code",
   "execution_count": 20,
   "metadata": {},
   "outputs": [],
   "source": [
    "df_luis = df.iloc[:129327,]\n"
   ]
  },
  {
   "cell_type": "code",
   "execution_count": 22,
   "metadata": {},
   "outputs": [],
   "source": [
    "df_german = df.iloc[(129327 + 1):(2 * 129327 + 1),]"
   ]
  },
  {
   "cell_type": "code",
   "execution_count": 15,
   "metadata": {},
   "outputs": [],
   "source": [
    "df_dainer = df.iloc[(2 * 129327 + 1):(3 * 129327 + 1), ]"
   ]
  },
  {
   "cell_type": "code",
   "execution_count": 16,
   "metadata": {},
   "outputs": [],
   "source": [
    "df_csar = df.iloc[(3 * 129327 + 1):(4 * 129327 + 1), ]"
   ]
  },
  {
   "cell_type": "code",
   "execution_count": 24,
   "metadata": {},
   "outputs": [],
   "source": [
    "df_luis.to_parquet(\"../data/splited/mails_luis.parquet.gzip\", compression='gzip', engine='fastparquet')\n",
    "df_german.to_parquet(\"../data/splited/mails_german.parquet.gzip\", compression='gzip', engine='fastparquet')\n",
    "df_dainer.to_parquet(\"../data/splited/mails_dainer.parquet.gzip\", compression='gzip', engine='fastparquet')\n",
    "df_csar.to_parquet(\"../data/splited/mails_csar.parquet.gzip\", compression='gzip', engine='fastparquet')"
   ]
  }
 ],
 "metadata": {
  "kernelspec": {
   "display_name": "Python 3.7.9 ('mlopsenv': venv)",
   "language": "python",
   "name": "python3"
  },
  "language_info": {
   "codemirror_mode": {
    "name": "ipython",
    "version": 3
   },
   "file_extension": ".py",
   "mimetype": "text/x-python",
   "name": "python",
   "nbconvert_exporter": "python",
   "pygments_lexer": "ipython3",
   "version": "3.7.9"
  },
  "orig_nbformat": 4,
  "vscode": {
   "interpreter": {
    "hash": "66dc4e573df9df2bd5e173273dffd9585ed6127f91ebc4c38e01d824d02ebeb7"
   }
  }
 },
 "nbformat": 4,
 "nbformat_minor": 2
}
